{
 "cells": [
  {
   "cell_type": "code",
   "execution_count": null,
   "metadata": {},
   "outputs": [],
   "source": [
    "import numpy as np\n",
    "import pandas as pd\n",
    "import matplotlib.pyplot as plt     # like ROOT, but not a nightmare\n",
    "import matplotlib.pylab as pylab    # set the interactive figure size\n",
    "import matplotlib.dates as mdates\n",
    "\n",
    "from datetime import datetime\n",
    "\n",
    "# Plot styling\n",
    "params = {\n",
    "    'axes.labelsize': 25,\n",
    "    'legend.fontsize': 25,\n",
    "    'font.family': 'serif',\n",
    "    'xtick.labelsize': 25,\n",
    "    'ytick.labelsize': 25,\n",
    "    'text.usetex': False,\n",
    "    'figure.figsize': [16, 9]\n",
    "}\n",
    "\n",
    "pylab.rcParams.update(params)"
   ]
  }
 ],
 "metadata": {
  "kernelspec": {
   "display_name": "Python 3",
   "language": "python",
   "name": "python3"
  },
  "language_info": {
   "codemirror_mode": {
    "name": "ipython",
    "version": 3
   },
   "file_extension": ".py",
   "mimetype": "text/x-python",
   "name": "python",
   "nbconvert_exporter": "python",
   "pygments_lexer": "ipython3",
   "version": "3.6.5"
  }
 },
 "nbformat": 4,
 "nbformat_minor": 2
}
